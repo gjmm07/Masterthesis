{
 "cells": [
  {
   "cell_type": "code",
   "execution_count": 1,
   "id": "1f291ad8-efdf-4845-8e00-1bd12bea38e1",
   "metadata": {},
   "outputs": [],
   "source": [
    "import numpy as np\n",
    "from utils import read_dataset, drop_useless"
   ]
  },
  {
   "cell_type": "code",
   "execution_count": 2,
   "id": "f04e6dde-9c6b-4f55-9b8f-796a56c08adf",
   "metadata": {},
   "outputs": [],
   "source": [
    "dataset = read_dataset(\"Finn\",\n",
    "                       # timestamp=\"10-12-24\",\n",
    "                       read_ort=False)\n",
    "for nd in dataset:\n",
    "    nd.fill()\n",
    "dataset = drop_useless(dataset)"
   ]
  },
  {
   "cell_type": "code",
   "execution_count": 3,
   "id": "1b4170f1-c29c-44a5-adc8-9087b019984a",
   "metadata": {},
   "outputs": [],
   "source": [
    "dataset = [x.get_data(10, 10, 200) for x in dataset]"
   ]
  },
  {
   "cell_type": "code",
   "execution_count": 4,
   "id": "52c51676-2731-4e1c-8f94-b53a614a54be",
   "metadata": {},
   "outputs": [],
   "source": [
    "joints, marker, marker_pred, emg_data = (np.vstack(x) for x in zip(*dataset))"
   ]
  },
  {
   "cell_type": "code",
   "execution_count": 5,
   "id": "e7e72af5-5b2a-453e-bcf3-623ce98431e3",
   "metadata": {},
   "outputs": [
    {
     "data": {
      "text/plain": [
       "(184988, 200, 8)"
      ]
     },
     "execution_count": 5,
     "metadata": {},
     "output_type": "execute_result"
    }
   ],
   "source": [
    "emg_data.shape"
   ]
  },
  {
   "cell_type": "code",
   "execution_count": 6,
   "id": "92c472a1-e3a1-42be-bc63-ef3f2829692d",
   "metadata": {},
   "outputs": [
    {
     "data": {
      "text/plain": [
       "(184988, 10, 2)"
      ]
     },
     "execution_count": 6,
     "metadata": {},
     "output_type": "execute_result"
    }
   ],
   "source": [
    "joints.shape"
   ]
  },
  {
   "cell_type": "code",
   "execution_count": null,
   "id": "36443394-dc5e-4b21-8cf4-f60d056a1e19",
   "metadata": {},
   "outputs": [],
   "source": []
  }
 ],
 "metadata": {
  "kernelspec": {
   "display_name": "Python 3 (ipykernel)",
   "language": "python",
   "name": "python3"
  },
  "language_info": {
   "codemirror_mode": {
    "name": "ipython",
    "version": 3
   },
   "file_extension": ".py",
   "mimetype": "text/x-python",
   "name": "python",
   "nbconvert_exporter": "python",
   "pygments_lexer": "ipython3",
   "version": "3.11.10"
  }
 },
 "nbformat": 4,
 "nbformat_minor": 5
}
